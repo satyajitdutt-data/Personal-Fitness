{
 "cells": [
  {
   "cell_type": "markdown",
   "id": "794d2ad7-b8aa-4b5a-af22-f0ff47d281a2",
   "metadata": {},
   "source": [
    "### Project Overview\n",
    "\n",
    "I extracted the food items that I purchased at the REWE supermarket in Frankfurt, Germany from **11/05/2023 to 02/06/2023** using PDF receipts downloaded from my personal REWE account.\n",
    "\n",
    "The goal is to parse these receipts and extract structured data, such as item names, prices, and shopping dates for personal expenditure tracking.\n",
    "\n",
    "---\n",
    "\n",
    "### Step 1: Import the Required Packages\n",
    "\n",
    "We begin by importing the necessary Python libraries:\n",
    "\n",
    "- `pdfplumber` to extract text from the PDF receipts  \n",
    "- `glob` to locate all PDF files in a folder using wildcards (`*`, `?`)  \n",
    "- Standard libraries like `os`, `re`, and `datetime`  \n",
    "- `pandas` for data manipulation and analysis"
   ]
  },
  {
   "cell_type": "code",
   "execution_count": 2,
   "id": "fd671e36-dbbb-4e2d-a48b-c7ccf8f5ad84",
   "metadata": {},
   "outputs": [],
   "source": [
    "import warnings\n",
    "warnings.filterwarnings(\"ignore\")\n",
    "import sys\n",
    "import os\n",
    "import re\n",
    "import glob\n",
    "import pdfplumber\n",
    "import pandas as pd\n",
    "from datetime import datetime\n",
    "from contextlib import contextmanager\n",
    "import logging\n",
    "logging.getLogger(\"pdfminer\").setLevel(logging.ERROR)"
   ]
  },
  {
   "cell_type": "markdown",
   "id": "85397fb2-d6a7-4683-b450-4133d7ce7280",
   "metadata": {},
   "source": [
    "### Step 3: Define the File Path\n",
    "\n",
    "We now specify the folder containing all downloaded REWE supermarket receipt PDFs.  \n",
    "For security reasons, the actual path is masked in this notebook."
   ]
  },
  {
   "cell_type": "code",
   "execution_count": 4,
   "id": "457329e5-444c-443d-b67d-0b8025fa734a",
   "metadata": {},
   "outputs": [],
   "source": [
    "pdf_folder = \"C:/Users/rugge/Dropbox/Personal Portfolio/Fitness/Food Expenditure\"  "
   ]
  },
  {
   "cell_type": "markdown",
   "id": "0c93edcb-a0c5-497c-8e4b-a6eb7b8929de",
   "metadata": {},
   "source": [
    "### Step 5: Use Regex Patterns to Extract Item Lines and Dates\n",
    "\n",
    "We define two regular expressions to extract structured information from the receipts:\n",
    "\n",
    "1. `item_price_pattern`  \n",
    "   This pattern matches lines in the receipt that contain a product name (in uppercase German text) followed by a price (e.g., 1,49).  \n",
    "   It allows for special characters like umlauts (Ä, Ö, Ü, ß), punctuation, and European decimal formatting with a comma.\n",
    "\n",
    "2. `date_pattern`  \n",
    "   This pattern extracts the shopping date from the filename.  \n",
    "   The format we expect is \"vom DD.MM.YYYY\" — which is how REWE names their downloaded PDF receipts.\n"
   ]
  },
  {
   "cell_type": "code",
   "execution_count": 6,
   "id": "c1bcfefd-a3a1-47d1-a3b6-2d8c39451543",
   "metadata": {},
   "outputs": [],
   "source": [
    "item_price_pattern = re.compile(\n",
    "    r\"^([A-ZÄÖÜß0-9 .\\-/%]+?)\\s+([0-9]{1,2},[0-9]{2})\\s*[ABВ]?$\"\n",
    ")\n",
    "\n",
    "date_pattern = re.compile(r\"vom\\s(\\d{2}\\.\\d{2}\\.\\d{4})\")"
   ]
  },
  {
   "cell_type": "markdown",
   "id": "c3c446f1-1d4e-4177-be97-bada3221f5e5",
   "metadata": {},
   "source": [
    "### Extracting Supermarket Receipt Data from PDF Files\n",
    "\n",
    "We load the PDF files from a folder containing supermarket receipts and extract key information from each one.\n",
    "\n",
    "We begin by creating an empty list called `all_items`, and for each valid line in a receipt, we append a dictionary with the following details:\n",
    "\n",
    "-  **File name** — the name of the PDF file\n",
    "-  **Date** — the extracted shopping date from the filename (if available)\n",
    "-  **Item** — the product name, usually in German\n",
    "-  **Total paid** — the amount paid for the item\n",
    "\n",
    "See the code cell below for detailed comments on each step in the process."
   ]
  },
  {
   "cell_type": "code",
   "execution_count": 8,
   "id": "d7eae017-6866-4e69-b438-737decf138bb",
   "metadata": {},
   "outputs": [],
   "source": [
    "all_items = []\n",
    "\n",
    "for pdf_path in glob.glob(os.path.join(pdf_folder, \"*.pdf\")):\n",
    "    file_name = os.path.basename(pdf_path)\n",
    "\n",
    "    date_match = date_pattern.search(file_name)\n",
    "    if date_match:\n",
    "        shopping_date_str = date_match.group(1)\n",
    "        shopping_date = datetime.strptime(shopping_date_str, \"%d.%m.%Y\")\n",
    "    else:\n",
    "        shopping_date = None\n",
    "\n",
    "    try:\n",
    "        with pdfplumber.open(pdf_path) as pdf:\n",
    "            for page in pdf.pages:\n",
    "                page.cropbox = page.mediabox\n",
    "                text = page.extract_text()\n",
    "                if not text:\n",
    "                    continue\n",
    "\n",
    "                for line in text.split('\\n'):\n",
    "                    if any(skip_word in line for skip_word in [\n",
    "                        \"SUMME\", \"Ges.\", \"EUR\", \"Bezahlung\", \"Betrag\", \"Steuer\", \"Gesamtbetrag\"\n",
    "                    ]):\n",
    "                        continue\n",
    "\n",
    "                    match = item_price_pattern.match(line.strip())\n",
    "                    if match:\n",
    "                        item = match.group(1).strip()\n",
    "                        price = float(match.group(2).replace(\",\", \".\"))\n",
    "                        all_items.append({\n",
    "                            \"file\": file_name,\n",
    "                            \"date\": shopping_date,\n",
    "                            \"item\": item,\n",
    "                            \"total_paid\": price\n",
    "                        })\n",
    "    except Exception as e:\n",
    "        print(f\"Error processing {file_name}: {e}\")"
   ]
  },
  {
   "cell_type": "markdown",
   "id": "6580c7d8-f15b-4f41-9826-5cc519959275",
   "metadata": {},
   "source": [
    "### Step 6: Convert Extracted Items to a DataFrame\n",
    "\n",
    "Now that we've collected all the extracted item details into the `all_items` list, we can convert it into a structured Pandas DataFrame for analysis.\n"
   ]
  },
  {
   "cell_type": "code",
   "execution_count": 10,
   "id": "5d878fa6-d1d3-452b-8fec-caacdb853157",
   "metadata": {},
   "outputs": [],
   "source": [
    "df = pd.DataFrame(all_items)"
   ]
  },
  {
   "cell_type": "markdown",
   "id": "b4d4a8f5-5919-4e83-9d5c-f82ea6ceac0f",
   "metadata": {},
   "source": [
    "### Step 7: View the DataFrame\n",
    "\n",
    "Let's display the DataFrame to inspect the first few rows.\n"
   ]
  },
  {
   "cell_type": "code",
   "execution_count": 12,
   "id": "18e56613-9acc-4c1a-87b2-8072bfe430b6",
   "metadata": {},
   "outputs": [
    {
     "data": {
      "text/html": [
       "<div>\n",
       "<style scoped>\n",
       "    .dataframe tbody tr th:only-of-type {\n",
       "        vertical-align: middle;\n",
       "    }\n",
       "\n",
       "    .dataframe tbody tr th {\n",
       "        vertical-align: top;\n",
       "    }\n",
       "\n",
       "    .dataframe thead th {\n",
       "        text-align: right;\n",
       "    }\n",
       "</style>\n",
       "<table border=\"1\" class=\"dataframe\">\n",
       "  <thead>\n",
       "    <tr style=\"text-align: right;\">\n",
       "      <th></th>\n",
       "      <th>file</th>\n",
       "      <th>date</th>\n",
       "      <th>item</th>\n",
       "      <th>total_paid</th>\n",
       "    </tr>\n",
       "  </thead>\n",
       "  <tbody>\n",
       "    <tr>\n",
       "      <th>0</th>\n",
       "      <td>Dein REWE eBon vom 01.06.2023.pdf</td>\n",
       "      <td>2023-06-01</td>\n",
       "      <td>HA-BRUSTFILET</td>\n",
       "      <td>6.30</td>\n",
       "    </tr>\n",
       "    <tr>\n",
       "      <th>1</th>\n",
       "      <td>Dein REWE eBon vom 01.06.2023.pdf</td>\n",
       "      <td>2023-06-01</td>\n",
       "      <td>BIO MEHRKORNBR.</td>\n",
       "      <td>2.79</td>\n",
       "    </tr>\n",
       "    <tr>\n",
       "      <th>2</th>\n",
       "      <td>Dein REWE eBon vom 01.06.2023.pdf</td>\n",
       "      <td>2023-06-01</td>\n",
       "      <td>RUSTIKAL KNAECKE</td>\n",
       "      <td>2.39</td>\n",
       "    </tr>\n",
       "    <tr>\n",
       "      <th>3</th>\n",
       "      <td>Dein REWE eBon vom 01.06.2023.pdf</td>\n",
       "      <td>2023-06-01</td>\n",
       "      <td>BABY SPINAT</td>\n",
       "      <td>3.98</td>\n",
       "    </tr>\n",
       "    <tr>\n",
       "      <th>4</th>\n",
       "      <td>Dein REWE eBon vom 01.06.2023.pdf</td>\n",
       "      <td>2023-06-01</td>\n",
       "      <td>TOMATE</td>\n",
       "      <td>6.98</td>\n",
       "    </tr>\n",
       "    <tr>\n",
       "      <th>...</th>\n",
       "      <td>...</td>\n",
       "      <td>...</td>\n",
       "      <td>...</td>\n",
       "      <td>...</td>\n",
       "    </tr>\n",
       "    <tr>\n",
       "      <th>64</th>\n",
       "      <td>Dein REWE eBon vom 27.05.2023.pdf</td>\n",
       "      <td>2023-05-27</td>\n",
       "      <td>DUSCHE ICE KICK</td>\n",
       "      <td>1.19</td>\n",
       "    </tr>\n",
       "    <tr>\n",
       "      <th>65</th>\n",
       "      <td>Dein REWE eBon vom 30.05.2023 (1).pdf</td>\n",
       "      <td>2023-05-30</td>\n",
       "      <td>SPINAT 300G</td>\n",
       "      <td>2.50</td>\n",
       "    </tr>\n",
       "    <tr>\n",
       "      <th>66</th>\n",
       "      <td>Dein REWE eBon vom 30.05.2023.pdf</td>\n",
       "      <td>2023-05-30</td>\n",
       "      <td>HA-BRUSTFILET</td>\n",
       "      <td>5.37</td>\n",
       "    </tr>\n",
       "    <tr>\n",
       "      <th>67</th>\n",
       "      <td>Dein REWE eBon vom 30.05.2023.pdf</td>\n",
       "      <td>2023-05-30</td>\n",
       "      <td>BIO FRISCHKAESE</td>\n",
       "      <td>1.29</td>\n",
       "    </tr>\n",
       "    <tr>\n",
       "      <th>68</th>\n",
       "      <td>Dein REWE eBon vom 30.05.2023.pdf</td>\n",
       "      <td>2023-05-30</td>\n",
       "      <td>GEMUESE FOND</td>\n",
       "      <td>2.19</td>\n",
       "    </tr>\n",
       "  </tbody>\n",
       "</table>\n",
       "<p>69 rows × 4 columns</p>\n",
       "</div>"
      ],
      "text/plain": [
       "                                     file       date              item  \\\n",
       "0       Dein REWE eBon vom 01.06.2023.pdf 2023-06-01     HA-BRUSTFILET   \n",
       "1       Dein REWE eBon vom 01.06.2023.pdf 2023-06-01   BIO MEHRKORNBR.   \n",
       "2       Dein REWE eBon vom 01.06.2023.pdf 2023-06-01  RUSTIKAL KNAECKE   \n",
       "3       Dein REWE eBon vom 01.06.2023.pdf 2023-06-01       BABY SPINAT   \n",
       "4       Dein REWE eBon vom 01.06.2023.pdf 2023-06-01            TOMATE   \n",
       "..                                    ...        ...               ...   \n",
       "64      Dein REWE eBon vom 27.05.2023.pdf 2023-05-27   DUSCHE ICE KICK   \n",
       "65  Dein REWE eBon vom 30.05.2023 (1).pdf 2023-05-30       SPINAT 300G   \n",
       "66      Dein REWE eBon vom 30.05.2023.pdf 2023-05-30     HA-BRUSTFILET   \n",
       "67      Dein REWE eBon vom 30.05.2023.pdf 2023-05-30   BIO FRISCHKAESE   \n",
       "68      Dein REWE eBon vom 30.05.2023.pdf 2023-05-30      GEMUESE FOND   \n",
       "\n",
       "    total_paid  \n",
       "0         6.30  \n",
       "1         2.79  \n",
       "2         2.39  \n",
       "3         3.98  \n",
       "4         6.98  \n",
       "..         ...  \n",
       "64        1.19  \n",
       "65        2.50  \n",
       "66        5.37  \n",
       "67        1.29  \n",
       "68        2.19  \n",
       "\n",
       "[69 rows x 4 columns]"
      ]
     },
     "execution_count": 12,
     "metadata": {},
     "output_type": "execute_result"
    }
   ],
   "source": [
    "df"
   ]
  },
  {
   "cell_type": "markdown",
   "id": "3cec250b-ad2c-4a3e-8394-029699987cee",
   "metadata": {},
   "source": [
    "### Step 8: Filter Out Non-Food Items\n",
    "\n",
    "We only want to analyze food-related purchases from the supermarket receipts.  \n",
    "The list below contains non-food items (in German) that were manually identified — such as cleaning supplies, personal hygiene products, and kitchen accessories. We create a new dataframe called df_food\n"
   ]
  },
  {
   "cell_type": "code",
   "execution_count": 14,
   "id": "7319c092-64ac-496c-832d-5f360b365bca",
   "metadata": {},
   "outputs": [],
   "source": [
    "nonfood_items = ['5 VERSCHL.-KLIPS', \n",
    "                 'SENS.WHITE ZC', \n",
    "                 'VOLLWASCHMITTEL', \n",
    "                 'TO-GO SALATDOSE', \n",
    "                 'SCHEUERSPIRALE', \n",
    "                 'ALLZWECKTUECHER', \n",
    "                 'OXI ACTIONPULVER', \n",
    "                 'FRO.LIMO.SPUEL.', \n",
    "                 'JA TOIPA 3LG', \n",
    "                 'DUSCHE ICE KICK']\n",
    "\n",
    "df_food = df[~df['item'].isin(nonfood_items)]"
   ]
  },
  {
   "cell_type": "markdown",
   "id": "070698a5-7911-4ba0-8a6b-b1b5a43e3037",
   "metadata": {},
   "source": [
    "### Step 9: Verify That Only Food Items Remain\n",
    "\n",
    "To ensure our filtering worked correctly, we compare the number of rows in the original DataFrame (`df`) and the filtered DataFrame (`df_food`).\n",
    "\n",
    "If the filtering was successful, `df_food` should contain fewer rows than `df`."
   ]
  },
  {
   "cell_type": "code",
   "execution_count": 16,
   "id": "294e366c-98e6-4196-932b-253eab268fdb",
   "metadata": {},
   "outputs": [
    {
     "name": "stdout",
     "output_type": "stream",
     "text": [
      "The number of rows in df is 69\n",
      "The number of rows in df_food is 59\n"
     ]
    }
   ],
   "source": [
    "print('The number of rows in df is',len(df))\n",
    "print('The number of rows in df_food is',len(df_food))\n"
   ]
  },
  {
   "cell_type": "markdown",
   "id": "ac6f26e7-8c5d-4917-82ac-625fd6a7c769",
   "metadata": {},
   "source": [
    "### Step 10: Manually Label Food Categories\n",
    "\n",
    "To categorize the food items into broader food groups, we define a mapping dictionary called `label_map`.\n",
    "\n",
    "Each key represents an item name (in uppercase German), and the value represents the food group it belongs to.\n"
   ]
  },
  {
   "cell_type": "code",
   "execution_count": 18,
   "id": "b946a83a-5113-49a2-aa7c-b3382c495bb5",
   "metadata": {},
   "outputs": [],
   "source": [
    "label_map = {\n",
    "    \"HA-BRUSTFILET\": \"Poultry\",\n",
    "    \"BABY SPINAT\": \"Fruits and Vegetables\",\n",
    "    \"GEMUESE FOND\": \"Fruits and Vegetables\",\n",
    "    \"TOMATE\": \"Fruits and Vegetables\",\n",
    "    \"SPINAT 300G\": \"Fruits and Vegetables\",\n",
    "    \"ZITRONE\": \"Fruits and Vegetables\",\n",
    "    \"BIO FRISCHKAESE\": \"Bread, Dairy, Nuts and Rice\",\n",
    "    \"BIO MEHRKORNBR.\": \"Bread, Dairy, Nuts and Rice\",\n",
    "    \"RUSTIKAL KNAECKE\": \"Bread, Dairy, Nuts and Rice\",\n",
    "    \"KOKOSMILCH LIGHT\": \"Bread, Dairy, Nuts and Rice\",\n",
    "    \"NUSSKERNMISCHUNG\": \"Bread, Dairy, Nuts and Rice\"\n",
    "}\n",
    "\n"
   ]
  },
  {
   "cell_type": "markdown",
   "id": "e0c66846-7a3b-410b-aab7-79b943940a52",
   "metadata": {},
   "source": [
    "### Step 11: Categorize Items and Analyze Spending Patterns\n",
    "\n",
    "We now assign each food item a category label using the `label_map` dictionary defined earlier.  \n",
    "This new column, `food_label`, allows us to group spending by category.\n",
    "\n",
    "If an item does not appear in the mapping, we assign it the default label `\"Other\"`."
   ]
  },
  {
   "cell_type": "code",
   "execution_count": 20,
   "id": "8d2db075-7685-46dc-8386-24a97ac8e545",
   "metadata": {},
   "outputs": [],
   "source": [
    "df_food['food_label'] = df_food['item'].map(label_map).fillna(\"Other\")"
   ]
  },
  {
   "cell_type": "markdown",
   "id": "b07f3011-f922-47e9-b4b9-44244d58cf7e",
   "metadata": {},
   "source": [
    "### Step 12: Calculate Total Spend by Category\n",
    "\n",
    "We group the food DataFrame by the `food_label` column and sum the `total_paid` values to compute how much was spent in each category.\n",
    "\n",
    "This gives us a breakdown of spending across categories like Poultry, Fruits and Vegetables, and Bready/Dairy items.\n"
   ]
  },
  {
   "cell_type": "code",
   "execution_count": 22,
   "id": "b46cc9b4-08ac-4dcc-a392-1d94365f4566",
   "metadata": {},
   "outputs": [
    {
     "data": {
      "text/html": [
       "<div>\n",
       "<style scoped>\n",
       "    .dataframe tbody tr th:only-of-type {\n",
       "        vertical-align: middle;\n",
       "    }\n",
       "\n",
       "    .dataframe tbody tr th {\n",
       "        vertical-align: top;\n",
       "    }\n",
       "\n",
       "    .dataframe thead th {\n",
       "        text-align: right;\n",
       "    }\n",
       "</style>\n",
       "<table border=\"1\" class=\"dataframe\">\n",
       "  <thead>\n",
       "    <tr style=\"text-align: right;\">\n",
       "      <th></th>\n",
       "      <th>food_label</th>\n",
       "      <th>total_paid</th>\n",
       "    </tr>\n",
       "  </thead>\n",
       "  <tbody>\n",
       "    <tr>\n",
       "      <th>0</th>\n",
       "      <td>Bread, Dairy, Nuts and Rice</td>\n",
       "      <td>50.6</td>\n",
       "    </tr>\n",
       "    <tr>\n",
       "      <th>1</th>\n",
       "      <td>Fruits and Vegetables</td>\n",
       "      <td>79.7</td>\n",
       "    </tr>\n",
       "    <tr>\n",
       "      <th>2</th>\n",
       "      <td>Poultry</td>\n",
       "      <td>115.5</td>\n",
       "    </tr>\n",
       "  </tbody>\n",
       "</table>\n",
       "</div>"
      ],
      "text/plain": [
       "                    food_label  total_paid\n",
       "0  Bread, Dairy, Nuts and Rice        50.6\n",
       "1        Fruits and Vegetables        79.7\n",
       "2                      Poultry       115.5"
      ]
     },
     "execution_count": 22,
     "metadata": {},
     "output_type": "execute_result"
    }
   ],
   "source": [
    "df_groupspend = df_food.groupby('food_label')['total_paid'].sum().reset_index()\n",
    "\n",
    "df_groupspend"
   ]
  },
  {
   "cell_type": "markdown",
   "id": "c4f89882-a525-4590-bf88-33a140aed96e",
   "metadata": {},
   "source": [
    "### Step 13: Calculate Category Spending Shares\n",
    "\n",
    "To understand how much each food category contributed to overall spending, we calculate the **spending share** for each group.\n",
    "\n",
    "Steps:\n",
    "- Compute the total food spend across all items.\n",
    "- For each category, divide its total by the overall spend and multiply by 100 to get the percentage.\n",
    "- Round the results to make the output cleaner.\n"
   ]
  },
  {
   "cell_type": "code",
   "execution_count": 24,
   "id": "d4db6e28-5d72-4430-aae1-42d5d3b9729e",
   "metadata": {},
   "outputs": [
    {
     "data": {
      "text/html": [
       "<div>\n",
       "<style scoped>\n",
       "    .dataframe tbody tr th:only-of-type {\n",
       "        vertical-align: middle;\n",
       "    }\n",
       "\n",
       "    .dataframe tbody tr th {\n",
       "        vertical-align: top;\n",
       "    }\n",
       "\n",
       "    .dataframe thead th {\n",
       "        text-align: right;\n",
       "    }\n",
       "</style>\n",
       "<table border=\"1\" class=\"dataframe\">\n",
       "  <thead>\n",
       "    <tr style=\"text-align: right;\">\n",
       "      <th></th>\n",
       "      <th>food_label</th>\n",
       "      <th>total_paid</th>\n",
       "      <th>share</th>\n",
       "    </tr>\n",
       "  </thead>\n",
       "  <tbody>\n",
       "    <tr>\n",
       "      <th>0</th>\n",
       "      <td>Bread, Dairy, Nuts and Rice</td>\n",
       "      <td>51.0</td>\n",
       "      <td>21.0</td>\n",
       "    </tr>\n",
       "    <tr>\n",
       "      <th>1</th>\n",
       "      <td>Fruits and Vegetables</td>\n",
       "      <td>80.0</td>\n",
       "      <td>32.0</td>\n",
       "    </tr>\n",
       "    <tr>\n",
       "      <th>2</th>\n",
       "      <td>Poultry</td>\n",
       "      <td>116.0</td>\n",
       "      <td>47.0</td>\n",
       "    </tr>\n",
       "  </tbody>\n",
       "</table>\n",
       "</div>"
      ],
      "text/plain": [
       "                    food_label  total_paid  share\n",
       "0  Bread, Dairy, Nuts and Rice        51.0   21.0\n",
       "1        Fruits and Vegetables        80.0   32.0\n",
       "2                      Poultry       116.0   47.0"
      ]
     },
     "execution_count": 24,
     "metadata": {},
     "output_type": "execute_result"
    }
   ],
   "source": [
    "total_spend = df_food['total_paid'].sum()\n",
    "\n",
    "df_groupspend['share'] = 100*df_groupspend['total_paid']/ total_spend\n",
    "\n",
    "df_groupspend[['food_label','total_paid','share']].round(0)"
   ]
  },
  {
   "cell_type": "markdown",
   "id": "d7c83410-6017-47dc-93eb-7e76222f0fe6",
   "metadata": {},
   "source": [
    "### Step 14: Estimate Weekly Food Spend\n",
    "\n",
    "To estimate how much was spent on food per week, we calculate a **pro-rata weekly average** based on the number of days covered by the receipts.\n",
    "\n",
    "In this case, the data spans 22 days. We scale the total spend to a 7-day week:"
   ]
  },
  {
   "cell_type": "code",
   "execution_count": 26,
   "id": "b56fc9f7-df52-4cc2-ac35-7f5a8fccbe50",
   "metadata": {},
   "outputs": [
    {
     "name": "stdout",
     "output_type": "stream",
     "text": [
      "\n",
      "Weekly spend: €78\n"
     ]
    }
   ],
   "source": [
    "weekly_spend = (total_spend / 22 * 7)\n",
    "\n",
    "print(f\"\\nWeekly spend: €{weekly_spend:.0f}\")"
   ]
  }
 ],
 "metadata": {
  "kernelspec": {
   "display_name": "Python [conda env:base] *",
   "language": "python",
   "name": "conda-base-py"
  },
  "language_info": {
   "codemirror_mode": {
    "name": "ipython",
    "version": 3
   },
   "file_extension": ".py",
   "mimetype": "text/x-python",
   "name": "python",
   "nbconvert_exporter": "python",
   "pygments_lexer": "ipython3",
   "version": "3.12.7"
  }
 },
 "nbformat": 4,
 "nbformat_minor": 5
}
